{
 "cells": [
  {
   "cell_type": "markdown",
   "metadata": {},
   "source": [
    "# Ros Diana 0706022210049"
   ]
  },
  {
   "cell_type": "markdown",
   "metadata": {},
   "source": [
    "# 1. Factorial"
   ]
  },
  {
   "cell_type": "code",
   "execution_count": 3,
   "metadata": {},
   "outputs": [
    {
     "name": "stdout",
     "output_type": "stream",
     "text": [
      "Factorial dari 5 adalah 120\n"
     ]
    }
   ],
   "source": [
    "# Metode Rekursi\n",
    "\n",
    "def factorial(n):\n",
    "    if n == 0 or n == 1:\n",
    "        return 1\n",
    "    else:\n",
    "        return n * factorial(n - 1)\n",
    "\n",
    "# Mengambil input dari pengguna\n",
    "number = int(input(\"Masukkan angka untuk dihitung factorialnya: \"))\n",
    "\n",
    "# Menghitung dan menampilkan hasil\n",
    "print(f\"Factorial dari {number} adalah {factorial(number)}\")"
   ]
  },
  {
   "cell_type": "code",
   "execution_count": null,
   "metadata": {},
   "outputs": [],
   "source": [
    "# Metode Iterasi\n",
    " \n",
    "def factorial(n):\n",
    "    result = 1\n",
    "    for i in range(2, n + 1):\n",
    "        result *= i\n",
    "    return result\n",
    "\n",
    "# Mengambil input dari pengguna\n",
    "number = int(input(\"Masukkan angka untuk dihitung factorialnya: \"))\n",
    "\n",
    "# Menghitung dan menampilkan hasil\n",
    "print(f\"Factorial dari {number} adalah {factorial(number)}\")"
   ]
  },
  {
   "cell_type": "markdown",
   "metadata": {},
   "source": [
    "# 2. Fibonaci"
   ]
  },
  {
   "cell_type": "code",
   "execution_count": 5,
   "metadata": {},
   "outputs": [
    {
     "name": "stdout",
     "output_type": "stream",
     "text": [
      "Fibonacci ke-5 adalah 5\n"
     ]
    }
   ],
   "source": [
    "# Metode Rekursi\n",
    "\n",
    "def fibonacci(n):\n",
    "    if n <= 0:\n",
    "        return 0\n",
    "    elif n == 1:\n",
    "        return 1\n",
    "    else:\n",
    "        return fibonacci(n - 1) + fibonacci(n - 2)\n",
    "\n",
    "# Contoh penggunaan\n",
    "n = int(input(\"Masukkan angka ke-n untuk Fibonacci: \"))\n",
    "print(f\"Fibonacci ke-{n} adalah {fibonacci(n)}\")"
   ]
  },
  {
   "cell_type": "code",
   "execution_count": 6,
   "metadata": {},
   "outputs": [
    {
     "name": "stdout",
     "output_type": "stream",
     "text": [
      "Fibonacci ke-6 adalah 8\n"
     ]
    }
   ],
   "source": [
    "# Metode Iterasi\n",
    "\n",
    "def fibonacci(n):\n",
    "    a, b = 0, 1\n",
    "    for _ in range(n):\n",
    "        a, b = b, a + b\n",
    "    return a\n",
    "\n",
    "# Contoh penggunaan\n",
    "n = int(input(\"Masukkan angka ke-n untuk Fibonacci: \"))\n",
    "print(f\"Fibonacci ke-{n} adalah {fibonacci(n)}\")"
   ]
  },
  {
   "cell_type": "markdown",
   "metadata": {},
   "source": [
    "# 3. Entropy"
   ]
  },
  {
   "cell_type": "code",
   "execution_count": 7,
   "metadata": {},
   "outputs": [
    {
     "name": "stdout",
     "output_type": "stream",
     "text": [
      "Entropy dari hasil pelemparan koin adalah: 1.0\n"
     ]
    }
   ],
   "source": [
    "import math\n",
    "\n",
    "def calculate_entropy(coin_flips):\n",
    "    total_flips = len(coin_flips)\n",
    "    \n",
    "    # Hitung frekuensi munculnya Head (H) dan Tail (T)\n",
    "    head_count = coin_flips.count('H')\n",
    "    tail_count = coin_flips.count('T')\n",
    "    \n",
    "    # Hitung probabilitas\n",
    "    p_head = head_count / total_flips\n",
    "    p_tail = tail_count / total_flips\n",
    "    \n",
    "    # Hitung entropy\n",
    "    entropy = 0\n",
    "    if p_head > 0:\n",
    "        entropy -= p_head * math.log2(p_head)\n",
    "    if p_tail > 0:\n",
    "        entropy -= p_tail * math.log2(p_tail)\n",
    "    \n",
    "    return entropy\n",
    "\n",
    "# Contoh hasil pelemparan koin\n",
    "coin_flips = ['H', 'T', 'H', 'T', 'T', 'H', 'H', 'T', 'H', 'T']\n",
    "\n",
    "# Menghitung entropy\n",
    "entropy_value = calculate_entropy(coin_flips)\n",
    "print(f\"Entropy dari hasil pelemparan koin adalah: {entropy_value}\")\n"
   ]
  },
  {
   "cell_type": "markdown",
   "metadata": {},
   "source": [
    "# 4. Gini"
   ]
  },
  {
   "cell_type": "code",
   "execution_count": 8,
   "metadata": {},
   "outputs": [
    {
     "name": "stdout",
     "output_type": "stream",
     "text": [
      "Gini Index = 0.5\n"
     ]
    }
   ],
   "source": [
    "def gini_index(m, n):\n",
    "    if m == 0 or n == 0:\n",
    "        return 0\n",
    "    p_m = m / (m + n)\n",
    "    p_n = n / (m + n)\n",
    "    return 1 - (p_m**2 + p_n**2)\n",
    "print(f\"Gini Index = {gini_index(2, 2)}\")"
   ]
  },
  {
   "cell_type": "markdown",
   "metadata": {},
   "source": [
    "# 5.  CLASSIFICATION ERROR"
   ]
  },
  {
   "cell_type": "code",
   "execution_count": 12,
   "metadata": {},
   "outputs": [
    {
     "name": "stdout",
     "output_type": "stream",
     "text": [
      "Classification Error: 0.30 (30.00%)\n"
     ]
    }
   ],
   "source": [
    "true_labels = ['A', 'B', 'A', 'A', 'B', 'B', 'A', 'B', 'A', 'A']\n",
    "predicted_labels = ['A', 'B', 'A', 'B', 'B', 'A', 'A', 'B', 'A', 'B']\n",
    "\n",
    "def calculate_classification_error(true_labels, predicted_labels):\n",
    "    # Hitung jumlah kesalahan\n",
    "    errors = 0\n",
    "    for true, predicted in zip(true_labels, predicted_labels):\n",
    "        if true != predicted:\n",
    "            errors += 1\n",
    "            \n",
    "    # Hitung total data\n",
    "    total = len(true_labels)\n",
    "    \n",
    "    # Hitung classification error\n",
    "    classification_error = errors / total\n",
    "    \n",
    "    return classification_error\n",
    "\n",
    "# Menghitung classification error\n",
    "error_value = calculate_classification_error(true_labels, predicted_labels)\n",
    "print(f\"Classification Error: {error_value:.2f} ({error_value * 100:.2f}%)\")\n"
   ]
  },
  {
   "cell_type": "markdown",
   "metadata": {},
   "source": [
    "# 6. Ganjil Genap"
   ]
  },
  {
   "cell_type": "code",
   "execution_count": 13,
   "metadata": {},
   "outputs": [
    {
     "name": "stdout",
     "output_type": "stream",
     "text": [
      "Angka 5 adalah Ganjil.\n"
     ]
    }
   ],
   "source": [
    "def check_odd_even(number):\n",
    "    if number % 2 == 0:\n",
    "        return \"Genap\"\n",
    "    else:\n",
    "        return \"Ganjil\"\n",
    "\n",
    "# Meminta input dari pengguna\n",
    "try:\n",
    "    user_input = int(input(\"Masukkan angka: \"))\n",
    "    result = check_odd_even(user_input)\n",
    "    print(f\"Angka {user_input} adalah {result}.\")\n",
    "except ValueError:\n",
    "    print(\"Harap masukkan angka yang valid.\")"
   ]
  },
  {
   "cell_type": "markdown",
   "metadata": {},
   "source": [
    "# 7. palindrome"
   ]
  },
  {
   "cell_type": "code",
   "execution_count": 21,
   "metadata": {},
   "outputs": [
    {
     "name": "stdout",
     "output_type": "stream",
     "text": [
      "\"l\" adalah palindrome.\n"
     ]
    }
   ],
   "source": [
    "def is_palindrome(s):\n",
    "    # Menghapus spasi dan mengubah ke huruf kecil\n",
    "    cleaned_string = ''.join(s.split()).lower()\n",
    "    # Membandingkan string dengan versi terbaliknya\n",
    "    return cleaned_string == cleaned_string[::-1]\n",
    "\n",
    "# Meminta input dari pengguna\n",
    "user_input = input(\"Masukkan sebuah kata atau kalimat: \")\n",
    "\n",
    "# Memeriksa apakah input adalah palindrome\n",
    "if is_palindrome(user_input):\n",
    "    print(f'\"{user_input}\" adalah palindrome.')\n",
    "else:\n",
    "    print(f'\"{user_input}\" bukan palindrome.')\n"
   ]
  },
  {
   "cell_type": "markdown",
   "metadata": {},
   "source": [
    "# 8. Lempar Koin"
   ]
  },
  {
   "cell_type": "code",
   "execution_count": 29,
   "metadata": {},
   "outputs": [
    {
     "name": "stdout",
     "output_type": "stream",
     "text": [
      "Hasil lempar koin: Ekor\n"
     ]
    }
   ],
   "source": [
    "import random\n",
    "\n",
    "def lempar_koin():\n",
    "    hasil = random.choice(['Kepala', 'Ekor'])\n",
    "    print(f\"Hasil lempar koin: {hasil}\")\n",
    "\n",
    "lempar_koin()\n"
   ]
  }
 ],
 "metadata": {
  "kernelspec": {
   "display_name": "base",
   "language": "python",
   "name": "python3"
  },
  "language_info": {
   "codemirror_mode": {
    "name": "ipython",
    "version": 3
   },
   "file_extension": ".py",
   "mimetype": "text/x-python",
   "name": "python",
   "nbconvert_exporter": "python",
   "pygments_lexer": "ipython3",
   "version": "3.11.4"
  }
 },
 "nbformat": 4,
 "nbformat_minor": 2
}
